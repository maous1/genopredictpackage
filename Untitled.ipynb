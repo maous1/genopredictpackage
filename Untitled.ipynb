{
 "cells": [
  {
   "cell_type": "code",
   "execution_count": null,
   "id": "a4285512",
   "metadata": {},
   "outputs": [],
   "source": [
    "def kmer(sequence, k):\n",
    "    allseq = []\n",
    "    for i in range(len(sequence)-k+1):\n",
    "        currentkmer = sequence[i:i+k]\n",
    "        allseq.append(currentkmer)\n",
    "    return dict((x,allseq.count(x)) for x in set(allseq))\n",
    "\n",
    "import pandas as pd\n",
    "\n",
    "def df_kmer(kmer_list, minimum=1):\n",
    "    allnames = []\n",
    "    for d in kmer_list:\n",
    "        allnames.extend(list(d.keys()))\n",
    "\n",
    "    remove = [k for k, v in pd.Series(allnames).value_counts().items() if v <= minimum]\n",
    "    for d in kmer_list:\n",
    "        for k in remove:\n",
    "            d.pop(k, None)\n",
    "\n",
    "    df = pd.DataFrame(kmer_list)\n",
    "    return df.fillna(0)\n",
    "\n",
    "import numpy as np\n",
    "from scipy import stats\n",
    "\n",
    "def binning(v, a):\n",
    "    p = np.arange(0, 1+1/a, 1/a)\n",
    "    q = np.quantile(v, p, interpolation='linear', axis=0)\n",
    "    qf = np.column_stack((q[:-1], q[1:]))\n",
    "    vp = pd.cut(v, bins=np.unique(q), include_lowest=True, labels=False)\n",
    "    m = np.nanmean(v, axis=0)\n",
    "    vm = m[vp]\n",
    "    mse = np.nanmean((v - vm)**2, axis=0)\n",
    "    return {'binning': m, 'bins_factor': vp, 'q': q, 'qf': qf, 'bins': vm, 'mse': mse}\n",
    "\n",
    "def NormSAX(D, a):\n",
    "    vector = np.asarray(D).ravel()\n",
    "    vectorNorm = (vector - np.nanmean(vector))/np.nanstd(vector)\n",
    "    DS = STSSaxEncode(D, vectorNorm, a)\n",
    "    return DS\n",
    "\n",
    "def STSSaxEncode(dataset, vector, a):\n",
    "    mybin = binning(vector, a)\n",
    "    myletters = [chr(i) for i in range(65, 65+a)]\n",
    "    saxvector = [myletters[i] for i in mybin['bins_factor']]\n",
    "    saxvector = np.asarray(saxvector).reshape(dataset.shape)\n",
    "    saxvector = pd.DataFrame(saxvector, columns=dataset.columns)\n",
    "    return saxvector"
   ]
  }
 ],
 "metadata": {
  "kernelspec": {
   "display_name": "Python 3 (ipykernel)",
   "language": "python",
   "name": "python3"
  },
  "language_info": {
   "codemirror_mode": {
    "name": "ipython",
    "version": 3
   },
   "file_extension": ".py",
   "mimetype": "text/x-python",
   "name": "python",
   "nbconvert_exporter": "python",
   "pygments_lexer": "ipython3",
   "version": "3.10.6"
  }
 },
 "nbformat": 4,
 "nbformat_minor": 5
}
